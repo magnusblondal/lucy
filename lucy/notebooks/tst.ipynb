{
 "cells": [
  {
   "cell_type": "code",
   "execution_count": 35,
   "metadata": {},
   "outputs": [],
   "source": [
    "import crypto\n",
    "import base64\n",
    "import hashlib\n",
    "import hmac\n",
    "import json"
   ]
  },
  {
   "cell_type": "code",
   "execution_count": 41,
   "metadata": {},
   "outputs": [],
   "source": [
    "apiPrivateKey = \"D06lgIZD5y/9z6bZL17S7SioS0zwEEQGQH0T7+kVfto1CePZbvzR7UQUoKZzBT/uWEyVy/vmwislBLfCc9/a7Ip2\"\n"
   ]
  },
  {
   "cell_type": "code",
   "execution_count": 46,
   "metadata": {},
   "outputs": [],
   "source": [
    "def sign_message(endpoint, postData, nonce=\"\"):\n",
    "    if endpoint.startswith('/derivatives'):\n",
    "        endpoint = endpoint[len('/derivatives'):]\n",
    "\n",
    "    # step 1: concatenate postData, nonce + endpoint\n",
    "    message = postData + nonce + endpoint\n",
    "\n",
    "    # step 2: hash the result of step 1 with SHA256\n",
    "    sha256_hash = hashlib.sha256()\n",
    "    sha256_hash.update(message.encode('utf8'))\n",
    "    hash_digest = sha256_hash.digest()\n",
    "\n",
    "    # step 3: base64 decode apiPrivateKey\n",
    "    secretDecoded = base64.b64decode(apiPrivateKey)\n",
    "\n",
    "    # step 4: use result of step 3 to has the result of step 2 with HMAC-SHA512\n",
    "    hmac_digest = hmac.new(secretDecoded, hash_digest, hashlib.sha512).digest()\n",
    "\n",
    "    # step 5: base64 encode the result of step 4 and return\n",
    "    return base64.b64encode(hmac_digest)\n",
    "    "
   ]
  },
  {
   "cell_type": "code",
   "execution_count": 49,
   "metadata": {},
   "outputs": [
    {
     "data": {
      "text/plain": [
       "b'\\x0fN\\xa5\\x80\\x86C\\xe7/\\xfd\\xcf\\xa6\\xd9/^\\xd2\\xed(\\xa8KL\\xf0\\x10D\\x06@}\\x13\\xef\\xe9\\x15~\\xda5\\t\\xe3\\xd9n\\xfc\\xd1\\xedD\\x14\\xa0\\xa6s\\x05?\\xeeXL\\x95\\xcb\\xfb\\xe6\\xc2+%\\x04\\xb7\\xc2s\\xdf\\xda\\xec\\x8av'"
      ]
     },
     "execution_count": 49,
     "metadata": {},
     "output_type": "execute_result"
    }
   ],
   "source": [
    "sign_message(\"/api/history/v2\", \"\")"
   ]
  }
 ],
 "metadata": {
  "kernelspec": {
   "display_name": "Python 3.11.1 64-bit ('3.11.1')",
   "language": "python",
   "name": "python3"
  },
  "language_info": {
   "codemirror_mode": {
    "name": "ipython",
    "version": 3
   },
   "file_extension": ".py",
   "mimetype": "text/x-python",
   "name": "python",
   "nbconvert_exporter": "python",
   "pygments_lexer": "ipython3",
   "version": "3.11.1"
  },
  "orig_nbformat": 4,
  "vscode": {
   "interpreter": {
    "hash": "bbbe03d81e350c573c2153cfbd1d180fe2d38e00ec7acf60cfde2b1e93903802"
   }
  }
 },
 "nbformat": 4,
 "nbformat_minor": 2
}
