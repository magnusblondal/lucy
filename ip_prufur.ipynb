{
 "cells": [
  {
   "cell_type": "code",
   "execution_count": 1,
   "metadata": {},
   "outputs": [],
   "source": [
    "%load_ext autoreload\n",
    "%autoreload 2"
   ]
  },
  {
   "cell_type": "code",
   "execution_count": 70,
   "metadata": {},
   "outputs": [],
   "source": [
    "from lucy.infrastructure.repos.position_repository import PositionRepository\n",
    "from lucy.infrastructure.repos.fills_repository import FillsRepository, Fills\n",
    "from lucy.infrastructure.repos.bot_repository import BotRepository\n",
    "from lucy.model.id import Id"
   ]
  },
  {
   "cell_type": "code",
   "execution_count": 72,
   "metadata": {},
   "outputs": [],
   "source": [
    "from lucy.model.signal import Signal, Signals\n",
    "from lucy.model.position import Position, Positions\n",
    "from lucy.model.symbol import Symbol, Symbols"
   ]
  },
  {
   "cell_type": "code",
   "execution_count": 159,
   "metadata": {},
   "outputs": [],
   "source": [
    "pos = PositionRepository().fetch_with_data(Id('8f56Fb27ii'))"
   ]
  },
  {
   "cell_type": "code",
   "execution_count": 160,
   "metadata": {},
   "outputs": [],
   "source": [
    "pos.calculate_profit_loss()"
   ]
  },
  {
   "cell_type": "code",
   "execution_count": 161,
   "metadata": {},
   "outputs": [
    {
     "data": {
      "text/plain": [
       "-0.044000000000004924"
      ]
     },
     "execution_count": 161,
     "metadata": {},
     "output_type": "execute_result"
    }
   ],
   "source": [
    "pos.profit"
   ]
  },
  {
   "cell_type": "code",
   "execution_count": 162,
   "metadata": {},
   "outputs": [
    {
     "data": {
      "text/plain": [
       "-0.08892841262784454"
      ]
     },
     "execution_count": 162,
     "metadata": {},
     "output_type": "execute_result"
    }
   ],
   "source": [
    "pos.profit_pct"
   ]
  },
  {
   "cell_type": "code",
   "execution_count": 163,
   "metadata": {},
   "outputs": [
    {
     "name": "stdout",
     "output_type": "stream",
     "text": [
      "profit: -0.09345600000000492\n",
      "profit_pct: -0.08892841262784454\n"
     ]
    },
    {
     "data": {
      "text/plain": [
       "-0.18888394842153064"
      ]
     },
     "execution_count": 163,
     "metadata": {},
     "output_type": "execute_result"
    }
   ],
   "source": [
    "buy_price   = 4.498\n",
    "sell_price  = 4.494\n",
    "qty         = 11\n",
    "fees        = 0.049456\n",
    "price_diff  = sell_price - buy_price\n",
    "profit      = (price_diff * qty) - fees\n",
    "profit_pct  = (price_diff / buy_price) * 100\n",
    "print(f\"profit: {profit}\")\n",
    "print(f\"profit_pct: {profit_pct}\")\n",
    "profit / (buy_price * qty) * 100\n"
   ]
  },
  {
   "cell_type": "code",
   "execution_count": 149,
   "metadata": {},
   "outputs": [
    {
     "data": {
      "text/plain": [
       "9.75"
      ]
     },
     "execution_count": 149,
     "metadata": {},
     "output_type": "execute_result"
    }
   ],
   "source": [
    "#  ( ((sell_price * qty) - fees) / ((buy_price * qty))\n",
    "profit / (buy_price * qty) * 100\n"
   ]
  },
  {
   "cell_type": "code",
   "execution_count": 150,
   "metadata": {},
   "outputs": [
    {
     "name": "stderr",
     "output_type": "stream",
     "text": [
      "[autoreload of lucy.model.position failed: Traceback (most recent call last):\n",
      "  File \"/home/maggi/.pyenv/versions/3.11.1/envs/trdr_311/lib/python3.11/site-packages/IPython/extensions/autoreload.py\", line 276, in check\n",
      "    superreload(m, reload, self.old_objects)\n",
      "  File \"/home/maggi/.pyenv/versions/3.11.1/envs/trdr_311/lib/python3.11/site-packages/IPython/extensions/autoreload.py\", line 500, in superreload\n",
      "    update_generic(old_obj, new_obj)\n",
      "  File \"/home/maggi/.pyenv/versions/3.11.1/envs/trdr_311/lib/python3.11/site-packages/IPython/extensions/autoreload.py\", line 397, in update_generic\n",
      "    update(a, b)\n",
      "  File \"/home/maggi/.pyenv/versions/3.11.1/envs/trdr_311/lib/python3.11/site-packages/IPython/extensions/autoreload.py\", line 349, in update_class\n",
      "    if update_generic(old_obj, new_obj):\n",
      "       ^^^^^^^^^^^^^^^^^^^^^^^^^^^^^^^^\n",
      "  File \"/home/maggi/.pyenv/versions/3.11.1/envs/trdr_311/lib/python3.11/site-packages/IPython/extensions/autoreload.py\", line 397, in update_generic\n",
      "    update(a, b)\n",
      "  File \"/home/maggi/.pyenv/versions/3.11.1/envs/trdr_311/lib/python3.11/site-packages/IPython/extensions/autoreload.py\", line 309, in update_function\n",
      "    setattr(old, name, getattr(new, name))\n",
      "ValueError: __init__() requires a code object with 0 free vars, not 1\n",
      "]\n",
      "[autoreload of lucy.model.order failed: Traceback (most recent call last):\n",
      "  File \"/home/maggi/.pyenv/versions/3.11.1/envs/trdr_311/lib/python3.11/site-packages/IPython/extensions/autoreload.py\", line 276, in check\n",
      "    superreload(m, reload, self.old_objects)\n",
      "  File \"/home/maggi/.pyenv/versions/3.11.1/envs/trdr_311/lib/python3.11/site-packages/IPython/extensions/autoreload.py\", line 500, in superreload\n",
      "    update_generic(old_obj, new_obj)\n",
      "  File \"/home/maggi/.pyenv/versions/3.11.1/envs/trdr_311/lib/python3.11/site-packages/IPython/extensions/autoreload.py\", line 397, in update_generic\n",
      "    update(a, b)\n",
      "  File \"/home/maggi/.pyenv/versions/3.11.1/envs/trdr_311/lib/python3.11/site-packages/IPython/extensions/autoreload.py\", line 349, in update_class\n",
      "    if update_generic(old_obj, new_obj):\n",
      "       ^^^^^^^^^^^^^^^^^^^^^^^^^^^^^^^^\n",
      "  File \"/home/maggi/.pyenv/versions/3.11.1/envs/trdr_311/lib/python3.11/site-packages/IPython/extensions/autoreload.py\", line 397, in update_generic\n",
      "    update(a, b)\n",
      "  File \"/home/maggi/.pyenv/versions/3.11.1/envs/trdr_311/lib/python3.11/site-packages/IPython/extensions/autoreload.py\", line 309, in update_function\n",
      "    setattr(old, name, getattr(new, name))\n",
      "ValueError: __init__() requires a code object with 0 free vars, not 1\n",
      "]\n"
     ]
    },
    {
     "data": {
      "text/plain": [
       "0.049456"
      ]
     },
     "execution_count": 150,
     "metadata": {},
     "output_type": "execute_result"
    }
   ],
   "source": [
    "0.024717 + 0.024739"
   ]
  },
  {
   "cell_type": "code",
   "execution_count": 141,
   "metadata": {},
   "outputs": [
    {
     "data": {
      "text/plain": [
       "9.0"
      ]
     },
     "execution_count": 141,
     "metadata": {},
     "output_type": "execute_result"
    }
   ],
   "source": [
    "BUY 11.0   at     4.542 entry filled: 0  limit price: 4.54 type: ioc  cb586c4f-2e5e-4b82-9fcd-b5afe514b4a5\n",
    "Fill:  Buy  qty 11.0 price:  4.498 remaining: 0.0 fill type: taker fee:  0.024739 USD taker order type: market order type: market  2023-08-18 14:12:12.619000\n",
    "SELL 11.0   at     4.449 close filled: 0  limit price: 4.45 Reduce only type: ioc  fb66c278-8afa-4686-a561-fae61ab5ed34\n",
    "Fill:  Sell qty 11.0 price:  4.494 remaining: 0.0 fill type: taker fee:  0.024717 USD taker order type: market order type: market  2023-08-18 14:12:23.734000"
   ]
  }
 ],
 "metadata": {
  "kernelspec": {
   "display_name": "trdr_311",
   "language": "python",
   "name": "python3"
  },
  "language_info": {
   "codemirror_mode": {
    "name": "ipython",
    "version": 3
   },
   "file_extension": ".py",
   "mimetype": "text/x-python",
   "name": "python",
   "nbconvert_exporter": "python",
   "pygments_lexer": "ipython3",
   "version": "3.11.1"
  },
  "orig_nbformat": 4
 },
 "nbformat": 4,
 "nbformat_minor": 2
}
