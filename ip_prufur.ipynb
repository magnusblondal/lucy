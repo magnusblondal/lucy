{
 "cells": [
  {
   "cell_type": "code",
   "execution_count": 1,
   "metadata": {},
   "outputs": [],
   "source": [
    "%load_ext autoreload\n",
    "%autoreload 2"
   ]
  },
  {
   "cell_type": "code",
   "execution_count": 70,
   "metadata": {},
   "outputs": [],
   "source": [
    "from lucy.infrastructure.repos.position_repository import PositionRepository\n",
    "from lucy.infrastructure.repos.fills_repository import FillsRepository, Fills\n",
    "from lucy.infrastructure.repos.bot_repository import BotRepository\n",
    "from lucy.model.id import Id"
   ]
  },
  {
   "cell_type": "code",
   "execution_count": 72,
   "metadata": {},
   "outputs": [],
   "source": [
    "from lucy.model.signal import Signal, Signals\n",
    "from lucy.model.position import Position, Positions\n",
    "from lucy.model.symbol import Symbol, Symbols"
   ]
  },
  {
   "cell_type": "code",
   "execution_count": 73,
   "metadata": {},
   "outputs": [
    {
     "name": "stdout",
     "output_type": "stream",
     "text": [
      "pf_dot,usd, pf_eth,usd, pf_ada,usd, pf_atom,usd, pf_atomusd\n",
      "dot, eth,...\n",
      "dot, eth + 3 more\n"
     ]
    }
   ],
   "source": [
    "s = 'dot, eth, ada, atom, atom'\n",
    "symbols = Symbols.from_str(s)\n",
    "print(symbols)\n",
    "sl= symbols.token_list()\n",
    "if len(sl) > 9:\n",
    "    print(symbols.token_list()[:9] + '...')\n",
    "c = str.count(s, ',')\n",
    "if c > 2:\n",
    "    snd_comma = str.index(s, ',', str.index(s, ',') + 1)\n",
    "    more = len(symbols) - 2\n",
    "    print(f\"{symbols.token_list()[:snd_comma]} + {more} more\" )\n"
   ]
  },
  {
   "cell_type": "code",
   "execution_count": 75,
   "metadata": {},
   "outputs": [
    {
     "name": "stdout",
     "output_type": "stream",
     "text": [
      "pf_dotatomadausd\n"
     ]
    }
   ],
   "source": [
    "symbols = 'dot atom ada'\n",
    "ss = Symbols.from_str(symbols)\n",
    "print(ss)"
   ]
  },
  {
   "cell_type": "code",
   "execution_count": 80,
   "metadata": {},
   "outputs": [
    {
     "name": "stdout",
     "output_type": "stream",
     "text": [
      "pf_dotusd, pf_atomusd, pf_adausd\n"
     ]
    }
   ],
   "source": [
    "def from_str(symbols: str) -> 'Symbols':\n",
    "        if ',' in symbols:\n",
    "            return Symbols([Symbol(s.replace(' ', '')) for s in symbols.split(\",\")])\n",
    "        return Symbols([Symbol(s) for s in symbols.split(\" \")])\n",
    "\n",
    "s = from_str(symbols)\n",
    "print(s)"
   ]
  }
 ],
 "metadata": {
  "kernelspec": {
   "display_name": "trdr_311",
   "language": "python",
   "name": "python3"
  },
  "language_info": {
   "codemirror_mode": {
    "name": "ipython",
    "version": 3
   },
   "file_extension": ".py",
   "mimetype": "text/x-python",
   "name": "python",
   "nbconvert_exporter": "python",
   "pygments_lexer": "ipython3",
   "version": "3.11.1"
  },
  "orig_nbformat": 4
 },
 "nbformat": 4,
 "nbformat_minor": 2
}
