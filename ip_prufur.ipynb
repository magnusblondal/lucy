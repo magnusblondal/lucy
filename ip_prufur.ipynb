{
 "cells": [
  {
   "cell_type": "code",
   "execution_count": 1,
   "metadata": {},
   "outputs": [],
   "source": [
    "%load_ext autoreload\n",
    "%autoreload 2"
   ]
  },
  {
   "cell_type": "code",
   "execution_count": 70,
   "metadata": {},
   "outputs": [],
   "source": [
    "from lucy.infrastructure.repos.position_repository import PositionRepository\n",
    "from lucy.infrastructure.repos.fills_repository import FillsRepository, Fills\n",
    "from lucy.infrastructure.repos.bot_repository import BotRepository\n",
    "from lucy.model.id import Id"
   ]
  },
  {
   "cell_type": "code",
   "execution_count": 72,
   "metadata": {},
   "outputs": [],
   "source": [
    "from lucy.model.signal import Signal, Signals\n",
    "from lucy.model.position import Position, Positions\n",
    "from lucy.model.symbol import Symbol, Symbols"
   ]
  },
  {
   "cell_type": "code",
   "execution_count": null,
   "metadata": {},
   "outputs": [],
   "source": [
    "# [2023-08-22 11:08:05,507 | INFO | MainThread | lucy.application.events.bus]  Event published: OrderCreatedEvent\n",
    "# [2023-08-22 11:08:05,508 | INFO | MainThread | lucy.application.events.bus]  OrderCreatedEvent published: DomainEvent::\n",
    "# [2023-08-22 11:08:05,508 | INFO | MainThread | lucy.application.events.event_handlers.trading_signal_handler]  Order Created Handler: DomainEvent::\n",
    "# [2023-08-22 11:08:05,514 | ERROR | MainThread | lucy.cli.controllers.runner]  Tick: Error in bot Single token 1m\n",
    "# Traceback (most recent call last):\n",
    "#   File \"/home/maggi/code/trdr/kraken/lucy/cli/controllers/runner.py\", line 42, in tick\n",
    "#     bus.publish(bot.events())\n",
    "#   File \"/home/maggi/code/trdr/kraken/lucy/application/events/bus.py\", line 18, in publish\n",
    "#     _publish(ev)\n",
    "#   File \"/home/maggi/code/trdr/kraken/lucy/application/events/bus.py\", line 56, in _publish\n",
    "#     order_created_handler(event)\n",
    "#   File \"/home/maggi/code/trdr/kraken/lucy/application/events/event_handlers/trading_signal_handler.py\", line 34, in order_created_handler\n",
    "#     OrderRepository().add(event.order, event.signal_id)\n",
    "#   File \"/home/maggi/code/trdr/kraken/lucy/infrastructure/repos/order_repository.py\", line 101, in add\n",
    "#     self._execute(sql, values)\n",
    "#   File \"/home/maggi/code/trdr/kraken/lucy/infrastructure/repos/repository.py\", line 32, in _execute\n",
    "#     cursor.execute(sql, values)\n",
    "#   File \"/home/maggi/.pyenv/versions/trdr_311/lib/python3.11/site-packages/psycopg2/extras.py\", line 146, in execute\n",
    "#     return super().execute(query, vars)\n",
    "#            ^^^^^^^^^^^^^^^^^^^^^^^^^^^^\n",
    "# psycopg2.errors.SyntaxError: syntax error at or near \".\"\n",
    "# LINE 21: ...timestamp, '2023-08-22T11:07:32.971000'::timestamp. '5bec647...\n",
    "#                                                               ^\n",
    "\n",
    "# [2023-08-22 11:08:05,517 | ERROR | MainThread | lucy.cli.controllers.runner]  syntax error at or near \".\"\n",
    "# LINE 21: ...timestamp, '2023-08-22T11:07:32.971000'::timestamp. '5bec647..."
   ]
  }
 ],
 "metadata": {
  "kernelspec": {
   "display_name": "trdr_311",
   "language": "python",
   "name": "python3"
  },
  "language_info": {
   "codemirror_mode": {
    "name": "ipython",
    "version": 3
   },
   "file_extension": ".py",
   "mimetype": "text/x-python",
   "name": "python",
   "nbconvert_exporter": "python",
   "pygments_lexer": "ipython3",
   "version": "3.11.1"
  },
  "orig_nbformat": 4
 },
 "nbformat": 4,
 "nbformat_minor": 2
}
