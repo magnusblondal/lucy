{
 "cells": [
  {
   "cell_type": "code",
   "execution_count": 1,
   "metadata": {},
   "outputs": [],
   "source": [
    "%load_ext autoreload\n",
    "%autoreload 2"
   ]
  },
  {
   "cell_type": "code",
   "execution_count": 2,
   "metadata": {},
   "outputs": [],
   "source": [
    "from lucy.infrastructure.repos.position_repository import PositionRepository\n",
    "from lucy.infrastructure.repos.fills_repository import FillsRepository, Fills\n",
    "from lucy.infrastructure.repos.bot_repository import BotRepository\n",
    "from lucy.model.id import Id"
   ]
  },
  {
   "cell_type": "code",
   "execution_count": 16,
   "metadata": {},
   "outputs": [],
   "source": [
    "from lucy.model.signal import Signal, Signals\n",
    "from lucy.model.position import Position, Positions"
   ]
  }
 ],
 "metadata": {
  "kernelspec": {
   "display_name": "trdr_311",
   "language": "python",
   "name": "python3"
  },
  "language_info": {
   "codemirror_mode": {
    "name": "ipython",
    "version": 3
   },
   "file_extension": ".py",
   "mimetype": "text/x-python",
   "name": "python",
   "nbconvert_exporter": "python",
   "pygments_lexer": "ipython3",
   "version": "3.11.1"
  },
  "orig_nbformat": 4
 },
 "nbformat": 4,
 "nbformat_minor": 2
}
